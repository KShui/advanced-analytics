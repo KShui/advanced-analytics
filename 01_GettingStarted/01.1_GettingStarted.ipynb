{
 "cells": [
  {
   "cell_type": "markdown",
   "metadata": {},
   "source": [
    "# Exercise 1 - Jupyter Environment & Git"
   ]
  },
  {
   "cell_type": "markdown",
   "metadata": {},
   "source": [
    "1.1. Please log on to the Jupyter Hub! You have been emailed your initial user and login URL! The password you entered will be stored as your login password. Use a strong password for your initial log in!  \n",
    "\n",
    "1.2 Clone the Exercise repository into your folder. Use Jupyter Notebooks to complete and document the exercises!"
   ]
  }
 ],
 "metadata": {
  "kernelspec": {
   "display_name": "Python 3",
   "language": "python",
   "name": "python3"
  },
  "language_info": {
   "codemirror_mode": {
    "name": "ipython",
    "version": 3
   },
   "file_extension": ".py",
   "mimetype": "text/x-python",
   "name": "python",
   "nbconvert_exporter": "python",
   "pygments_lexer": "ipython3",
   "version": "3.7.3"
  }
 },
 "nbformat": 4,
 "nbformat_minor": 4
}
