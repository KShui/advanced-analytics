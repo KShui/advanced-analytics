{
 "cells": [
  {
   "cell_type": "markdown",
   "metadata": {},
   "source": [
    "# Exercise 1 - Jupyter Environment & Git"
   ]
  },
  {
   "cell_type": "markdown",
   "metadata": {},
   "source": [
    "1.1. Please setup your software environment consisting of Anaconda including the packages specified in the `README.md` of this repository! We recommend an Ubuntu 20.04 image (e.g. `Ubuntu-20.04-focal`)!\n",
    "\n",
    "1.2. Install Java and Hadoop on this image!\n",
    "\n",
    "1.3 Clone the Exercise repository into your folder. Use Jupyter Notebooks to complete and document the exercises!\n",
    "\n",
    "1.4 Submit a list of all conda packages to Uni2Work!"
   ]
  },
  {
   "cell_type": "code",
   "execution_count": null,
   "metadata": {},
   "outputs": [],
   "source": []
  }
 ],
 "metadata": {
  "kernelspec": {
   "display_name": "Python 3",
   "language": "python",
   "name": "python3"
  },
  "language_info": {
   "codemirror_mode": {
    "name": "ipython",
    "version": 3
   },
   "file_extension": ".py",
   "mimetype": "text/x-python",
   "name": "python",
   "nbconvert_exporter": "python",
   "pygments_lexer": "ipython3",
   "version": "3.7.3"
  }
 },
 "nbformat": 4,
 "nbformat_minor": 4
}