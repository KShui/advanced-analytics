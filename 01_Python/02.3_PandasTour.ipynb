{
 "cells": [
  {
   "cell_type": "markdown",
   "metadata": {
    "deletable": true,
    "editable": true,
    "id": "vAVhbic6Lk2t"
   },
   "source": [
    "# Getting Started with pandas"
   ]
  },
  {
   "cell_type": "code",
   "execution_count": null,
   "metadata": {
    "id": "mJg-bN0gLk2y",
    "outputId": "3ebbec84-0849-46b7-fdd5-d135bdf75e81"
   },
   "outputs": [],
   "source": [
    "import os, sys\n"
   ]
  },
  {
   "cell_type": "code",
   "execution_count": null,
   "metadata": {
    "deletable": true,
    "editable": true,
    "id": "XNSc9vJdLk2z",
    "jupyter": {
     "outputs_hidden": false
    }
   },
   "outputs": [],
   "source": [
    "import pandas as pd"
   ]
  },
  {
   "cell_type": "code",
   "execution_count": null,
   "metadata": {
    "deletable": true,
    "editable": true,
    "id": "SWWvv_n_Lk2z",
    "jupyter": {
     "outputs_hidden": false
    }
   },
   "outputs": [],
   "source": [
    "from pandas import Series, DataFrame"
   ]
  },
  {
   "cell_type": "code",
   "execution_count": null,
   "metadata": {
    "deletable": true,
    "editable": true,
    "id": "vPis_vZoLk20",
    "jupyter": {
     "outputs_hidden": false
    }
   },
   "outputs": [],
   "source": [
    "import numpy as np\n",
    "np.random.seed(12345)\n",
    "import matplotlib.pyplot as plt\n",
    "plt.rc('figure', figsize=(10, 6))\n",
    "PREVIOUS_MAX_ROWS = pd.options.display.max_rows\n",
    "pd.options.display.max_rows = 20\n",
    "np.set_printoptions(precision=4, suppress=True)"
   ]
  },
  {
   "cell_type": "markdown",
   "metadata": {
    "deletable": true,
    "editable": true,
    "id": "moKYyEO_Lk20"
   },
   "source": [
    "## Introduction to pandas Data Structures"
   ]
  },
  {
   "cell_type": "markdown",
   "metadata": {
    "deletable": true,
    "editable": true,
    "id": "jEda6f-sLk20"
   },
   "source": [
    "### Series"
   ]
  },
  {
   "cell_type": "code",
   "execution_count": null,
   "metadata": {
    "deletable": true,
    "editable": true,
    "id": "cUBvzWq8Lk20",
    "jupyter": {
     "outputs_hidden": false
    },
    "outputId": "815c4ff4-a296-4d7f-ce24-0797d887eba5"
   },
   "outputs": [],
   "source": [
    "obj = pd.Series([4, 7, -5, 3])\n",
    "obj"
   ]
  },
  {
   "cell_type": "code",
   "execution_count": null,
   "metadata": {
    "deletable": true,
    "editable": true,
    "id": "IFDdIulALk21",
    "jupyter": {
     "outputs_hidden": false
    },
    "outputId": "7abb6222-6b31-4d5d-edb7-1fcde75e4a67"
   },
   "outputs": [],
   "source": [
    "obj.values\n",
    "obj.index  # like range(4)"
   ]
  },
  {
   "cell_type": "code",
   "execution_count": null,
   "metadata": {
    "deletable": true,
    "editable": true,
    "id": "rdKy3cjxLk21",
    "jupyter": {
     "outputs_hidden": false
    },
    "outputId": "4367f4ca-ddbb-4b29-c7ca-0b4e6c1d1118"
   },
   "outputs": [],
   "source": [
    "obj2 = pd.Series([4, 7, -5, 3], index=['d', 'b', 'a', 'c'])\n",
    "obj2\n",
    "obj2.index"
   ]
  },
  {
   "cell_type": "code",
   "execution_count": null,
   "metadata": {
    "deletable": true,
    "editable": true,
    "id": "RPZZqMaFLk21",
    "jupyter": {
     "outputs_hidden": false
    },
    "outputId": "bc5c9237-dc02-4817-aef4-7a6c7ce34291"
   },
   "outputs": [],
   "source": [
    "obj2['a']\n",
    "obj2['d'] = 6\n",
    "obj2[['c', 'a', 'd']]"
   ]
  },
  {
   "cell_type": "code",
   "execution_count": null,
   "metadata": {
    "deletable": true,
    "editable": true,
    "id": "MLgmjVxWLk22",
    "jupyter": {
     "outputs_hidden": false
    },
    "outputId": "0947eace-f583-40cb-ec7f-0d83f2a8877a"
   },
   "outputs": [],
   "source": [
    "obj2[obj2 > 0]\n",
    "obj2 * 2\n",
    "np.exp(obj2)"
   ]
  },
  {
   "cell_type": "code",
   "execution_count": null,
   "metadata": {
    "deletable": true,
    "editable": true,
    "id": "tpV-IfeHLk22",
    "jupyter": {
     "outputs_hidden": false
    },
    "outputId": "fba597f3-5f51-4b84-ec63-ca003f234f26"
   },
   "outputs": [],
   "source": [
    "'b' in obj2\n",
    "'e' in obj2"
   ]
  },
  {
   "cell_type": "code",
   "execution_count": null,
   "metadata": {
    "deletable": true,
    "editable": true,
    "id": "RLOOVEdzLk22",
    "jupyter": {
     "outputs_hidden": false
    },
    "outputId": "b339689f-cec8-4bdc-c33f-766ea3974a9a"
   },
   "outputs": [],
   "source": [
    "sdata = {'Ohio': 35000, 'Texas': 71000, 'Oregon': 16000, 'Utah': 5000}\n",
    "obj3 = pd.Series(sdata)\n",
    "obj3"
   ]
  },
  {
   "cell_type": "code",
   "execution_count": null,
   "metadata": {
    "deletable": true,
    "editable": true,
    "id": "r_sIdXRVLk22",
    "jupyter": {
     "outputs_hidden": false
    },
    "outputId": "644f43a0-9d01-4728-d928-4c1de47594c5"
   },
   "outputs": [],
   "source": [
    "states = ['California', 'Ohio', 'Oregon', 'Texas']\n",
    "obj4 = pd.Series(sdata, index=states)\n",
    "obj4"
   ]
  },
  {
   "cell_type": "code",
   "execution_count": null,
   "metadata": {
    "deletable": true,
    "editable": true,
    "id": "tLfNTBGyLk23",
    "jupyter": {
     "outputs_hidden": false
    },
    "outputId": "ce69b224-7244-4fd5-86fe-3f7643b25d93"
   },
   "outputs": [],
   "source": [
    "pd.isnull(obj4)\n",
    "pd.notnull(obj4)"
   ]
  },
  {
   "cell_type": "code",
   "execution_count": null,
   "metadata": {
    "deletable": true,
    "editable": true,
    "id": "UqtwZpXTLk23",
    "jupyter": {
     "outputs_hidden": false
    },
    "outputId": "42554646-925b-4991-a4c7-304a974041ea"
   },
   "outputs": [],
   "source": [
    "obj4.isnull()"
   ]
  },
  {
   "cell_type": "code",
   "execution_count": null,
   "metadata": {
    "deletable": true,
    "editable": true,
    "id": "adrsNaN4Lk23",
    "jupyter": {
     "outputs_hidden": false
    },
    "outputId": "036d64f9-cc79-4ae0-c405-87487c635562"
   },
   "outputs": [],
   "source": [
    "obj3\n",
    "obj4\n",
    "obj3 + obj4"
   ]
  },
  {
   "cell_type": "code",
   "execution_count": null,
   "metadata": {
    "deletable": true,
    "editable": true,
    "id": "gw15vZxbLk23",
    "jupyter": {
     "outputs_hidden": false
    },
    "outputId": "d48bdecd-f98d-49fa-c00d-b18b79fad9d6"
   },
   "outputs": [],
   "source": [
    "obj4.name = 'population'\n",
    "obj4.index.name = 'state'\n",
    "obj4"
   ]
  },
  {
   "cell_type": "code",
   "execution_count": null,
   "metadata": {
    "deletable": true,
    "editable": true,
    "id": "Rorj6wsLLk23",
    "jupyter": {
     "outputs_hidden": false
    },
    "outputId": "862f76f2-2d09-4c44-efc7-087a4c0287b7"
   },
   "outputs": [],
   "source": [
    "obj\n",
    "obj.index = ['Bob', 'Steve', 'Jeff', 'Ryan']\n",
    "obj"
   ]
  },
  {
   "cell_type": "markdown",
   "metadata": {
    "deletable": true,
    "editable": true,
    "id": "YMsdTtQ5Lk24"
   },
   "source": [
    "### DataFrame"
   ]
  },
  {
   "cell_type": "code",
   "execution_count": null,
   "metadata": {
    "deletable": true,
    "editable": true,
    "id": "DAAWc9npLk24",
    "jupyter": {
     "outputs_hidden": false
    }
   },
   "outputs": [],
   "source": [
    "data = {'state': ['Ohio', 'Ohio', 'Ohio', 'Nevada', 'Nevada', 'Nevada'],\n",
    "        'year': [2000, 2001, 2002, 2001, 2002, 2003],\n",
    "        'pop': [1.5, 1.7, 3.6, 2.4, 2.9, 3.2]}\n",
    "frame = pd.DataFrame(data)"
   ]
  },
  {
   "cell_type": "code",
   "execution_count": null,
   "metadata": {
    "deletable": true,
    "editable": true,
    "id": "NlOGB8R1Lk24",
    "jupyter": {
     "outputs_hidden": false
    },
    "outputId": "57c29703-7601-4aec-8655-5014f27b0828"
   },
   "outputs": [],
   "source": [
    "frame"
   ]
  },
  {
   "cell_type": "code",
   "execution_count": null,
   "metadata": {
    "deletable": true,
    "editable": true,
    "id": "vrYJ9uqqLk24",
    "jupyter": {
     "outputs_hidden": false
    },
    "outputId": "de31b9c5-9561-4483-d7f3-0371de0e5c04"
   },
   "outputs": [],
   "source": [
    "frame.head()"
   ]
  },
  {
   "cell_type": "code",
   "execution_count": null,
   "metadata": {
    "deletable": true,
    "editable": true,
    "id": "u9IMgdamLk24",
    "jupyter": {
     "outputs_hidden": false
    },
    "outputId": "0f06e78b-445c-49d6-81e7-ca083a709322"
   },
   "outputs": [],
   "source": [
    "pd.DataFrame(data, columns=['year', 'state', 'pop'])"
   ]
  },
  {
   "cell_type": "code",
   "execution_count": null,
   "metadata": {
    "deletable": true,
    "editable": true,
    "id": "--4nUFVFLk25",
    "jupyter": {
     "outputs_hidden": false
    },
    "outputId": "74f2e2b6-04e6-4e92-ecd3-52e03025beba"
   },
   "outputs": [],
   "source": [
    "frame2 = pd.DataFrame(data, columns=['year', 'state', 'pop', 'debt'],\n",
    "                      index=['one', 'two', 'three', 'four',\n",
    "                             'five', 'six'])\n",
    "frame2\n",
    "frame2.columns"
   ]
  },
  {
   "cell_type": "code",
   "execution_count": null,
   "metadata": {
    "deletable": true,
    "editable": true,
    "id": "eMse0fRALk25",
    "jupyter": {
     "outputs_hidden": false
    },
    "outputId": "41ec7f0d-eae0-4700-8175-d8c84b95f4fb"
   },
   "outputs": [],
   "source": [
    "frame2['state']\n",
    "frame2.year"
   ]
  },
  {
   "cell_type": "code",
   "execution_count": null,
   "metadata": {
    "deletable": true,
    "editable": true,
    "id": "XciNsoYSLk25",
    "jupyter": {
     "outputs_hidden": false
    },
    "outputId": "ab21b056-bad3-4208-c28e-9943be30bbae"
   },
   "outputs": [],
   "source": [
    "frame2.loc['three']"
   ]
  },
  {
   "cell_type": "code",
   "execution_count": null,
   "metadata": {
    "deletable": true,
    "editable": true,
    "id": "zccyq0FALk25",
    "jupyter": {
     "outputs_hidden": false
    },
    "outputId": "db35a0f4-15d2-4fc3-c6aa-27d4ee45262b"
   },
   "outputs": [],
   "source": [
    "frame2['debt'] = 16.5\n",
    "frame2\n",
    "frame2['debt'] = np.arange(6.)\n",
    "frame2"
   ]
  },
  {
   "cell_type": "code",
   "execution_count": null,
   "metadata": {
    "deletable": true,
    "editable": true,
    "id": "-N6i7GnVLk26",
    "jupyter": {
     "outputs_hidden": false
    },
    "outputId": "8260e0e0-c0d1-49c9-a61f-a24e5605abd3"
   },
   "outputs": [],
   "source": [
    "val = pd.Series([-1.2, -1.5, -1.7], index=['two', 'four', 'five'])\n",
    "frame2['debt'] = val\n",
    "frame2"
   ]
  },
  {
   "cell_type": "code",
   "execution_count": null,
   "metadata": {
    "deletable": true,
    "editable": true,
    "id": "eeqz05HlLk26",
    "jupyter": {
     "outputs_hidden": false
    },
    "outputId": "128990d5-5449-4d95-b629-a1ab5bb0a2c2"
   },
   "outputs": [],
   "source": [
    "frame2['eastern'] = frame2.state == 'Ohio'\n",
    "frame2"
   ]
  },
  {
   "cell_type": "code",
   "execution_count": null,
   "metadata": {
    "deletable": true,
    "editable": true,
    "id": "LBlM3R7RLk26",
    "jupyter": {
     "outputs_hidden": false
    },
    "outputId": "7b1a0db3-eef9-477b-86d5-52d5b131bf46"
   },
   "outputs": [],
   "source": [
    "del frame2['eastern']\n",
    "frame2.columns"
   ]
  },
  {
   "cell_type": "code",
   "execution_count": null,
   "metadata": {
    "deletable": true,
    "editable": true,
    "id": "PAlbhSFvLk26",
    "jupyter": {
     "outputs_hidden": false
    }
   },
   "outputs": [],
   "source": [
    "pop = {'Nevada': {2001: 2.4, 2002: 2.9},\n",
    "       'Ohio': {2000: 1.5, 2001: 1.7, 2002: 3.6}}"
   ]
  },
  {
   "cell_type": "code",
   "execution_count": null,
   "metadata": {
    "deletable": true,
    "editable": true,
    "id": "rx8PmbpBLk26",
    "jupyter": {
     "outputs_hidden": false
    },
    "outputId": "ada4e916-4cf6-4ea7-f917-41fdb5d47616"
   },
   "outputs": [],
   "source": [
    "frame3 = pd.DataFrame(pop)\n",
    "frame3"
   ]
  },
  {
   "cell_type": "code",
   "execution_count": null,
   "metadata": {
    "deletable": true,
    "editable": true,
    "id": "s0zR-t5nLk26",
    "jupyter": {
     "outputs_hidden": false
    },
    "outputId": "4f1fa603-cdbd-4b42-f338-a89c0e238a74"
   },
   "outputs": [],
   "source": [
    "frame3.T"
   ]
  },
  {
   "cell_type": "code",
   "execution_count": null,
   "metadata": {
    "deletable": true,
    "editable": true,
    "id": "ucVIy2jXLk27",
    "jupyter": {
     "outputs_hidden": false
    },
    "outputId": "2e51b76d-67e2-4de3-c867-574412abcae6"
   },
   "outputs": [],
   "source": [
    "pd.DataFrame(pop, index=[2001, 2002, 2003])"
   ]
  },
  {
   "cell_type": "code",
   "execution_count": null,
   "metadata": {
    "deletable": true,
    "editable": true,
    "id": "ZKGTiaoTLk27",
    "jupyter": {
     "outputs_hidden": false
    },
    "outputId": "798b76c5-0609-4c35-b9c3-266700a77999"
   },
   "outputs": [],
   "source": [
    "pdata = {'Ohio': frame3['Ohio'][:-1],\n",
    "         'Nevada': frame3['Nevada'][:2]}\n",
    "pd.DataFrame(pdata)"
   ]
  },
  {
   "cell_type": "code",
   "execution_count": null,
   "metadata": {
    "deletable": true,
    "editable": true,
    "id": "Dw15niiaLk27",
    "jupyter": {
     "outputs_hidden": false
    },
    "outputId": "f32a8ce2-8c53-4918-f38f-e886a71a74ee"
   },
   "outputs": [],
   "source": [
    "frame3.index.name = 'year'; frame3.columns.name = 'state'\n",
    "frame3"
   ]
  },
  {
   "cell_type": "code",
   "execution_count": null,
   "metadata": {
    "deletable": true,
    "editable": true,
    "id": "jM-5pQkYLk27",
    "jupyter": {
     "outputs_hidden": false
    },
    "outputId": "3c11b5a0-7351-4598-8247-2400f3981679"
   },
   "outputs": [],
   "source": [
    "frame3.to_numpy()"
   ]
  },
  {
   "cell_type": "code",
   "execution_count": null,
   "metadata": {
    "deletable": true,
    "editable": true,
    "id": "UiI6s_MgLk27",
    "jupyter": {
     "outputs_hidden": false
    },
    "outputId": "645d8f7f-bd78-48fc-d6d0-79f930670add"
   },
   "outputs": [],
   "source": [
    "frame2.to_numpy()"
   ]
  },
  {
   "cell_type": "markdown",
   "metadata": {
    "deletable": true,
    "editable": true,
    "id": "5pYv_FXELk28"
   },
   "source": [
    "### Index Objects"
   ]
  },
  {
   "cell_type": "code",
   "execution_count": null,
   "metadata": {
    "deletable": true,
    "editable": true,
    "id": "zkJ1mebCLk28",
    "jupyter": {
     "outputs_hidden": false
    },
    "outputId": "37c843c1-b5b2-482d-d90e-83b1b42ccd2a"
   },
   "outputs": [],
   "source": [
    "obj = pd.Series(range(3), index=['a', 'b', 'c'])\n",
    "index = obj.index\n",
    "index\n",
    "index[1:]"
   ]
  },
  {
   "cell_type": "markdown",
   "metadata": {
    "deletable": true,
    "editable": true,
    "id": "I26s667FLk28"
   },
   "source": [
    "index[1] = 'd'  # TypeError"
   ]
  },
  {
   "cell_type": "code",
   "execution_count": null,
   "metadata": {
    "deletable": true,
    "editable": true,
    "id": "AQR69E1rLk28",
    "jupyter": {
     "outputs_hidden": false
    },
    "outputId": "d65f79af-2e42-470c-bb92-4a2f802a4996"
   },
   "outputs": [],
   "source": [
    "labels = pd.Index(np.arange(3))\n",
    "labels\n",
    "obj2 = pd.Series([1.5, -2.5, 0], index=labels)\n",
    "obj2\n",
    "obj2.index is labels"
   ]
  },
  {
   "cell_type": "code",
   "execution_count": null,
   "metadata": {
    "deletable": true,
    "editable": true,
    "id": "o3k5DshvLk28",
    "jupyter": {
     "outputs_hidden": false
    },
    "outputId": "cc382334-605c-42b0-f3d9-98587fb24535"
   },
   "outputs": [],
   "source": [
    "frame3\n",
    "frame3.columns\n",
    "'Ohio' in frame3.columns\n",
    "2003 in frame3.index"
   ]
  },
  {
   "cell_type": "code",
   "execution_count": null,
   "metadata": {
    "deletable": true,
    "editable": true,
    "id": "Seaym2rNLk29",
    "jupyter": {
     "outputs_hidden": false
    },
    "outputId": "7ac6914a-7126-4eb6-e5e9-259e32e84f33"
   },
   "outputs": [],
   "source": [
    "dup_labels = pd.Index(['foo', 'foo', 'bar', 'bar'])\n",
    "dup_labels"
   ]
  },
  {
   "cell_type": "markdown",
   "metadata": {
    "deletable": true,
    "editable": true,
    "id": "G_8Kv2uqLk29"
   },
   "source": [
    "## Essential Functionality"
   ]
  },
  {
   "cell_type": "markdown",
   "metadata": {
    "deletable": true,
    "editable": true,
    "id": "hQb07MV1Lk29"
   },
   "source": [
    "### Dropping Entries from an Axis"
   ]
  },
  {
   "cell_type": "code",
   "execution_count": null,
   "metadata": {
    "deletable": true,
    "editable": true,
    "id": "vacIGy5eLk29",
    "jupyter": {
     "outputs_hidden": false
    },
    "outputId": "d327ea18-b1ca-493e-990a-43604cf9f533"
   },
   "outputs": [],
   "source": [
    "obj = pd.Series(np.arange(5.), index=['a', 'b', 'c', 'd', 'e'])\n",
    "obj\n",
    "new_obj = obj.drop('c')\n",
    "new_obj\n",
    "obj.drop(['d', 'c'])"
   ]
  },
  {
   "cell_type": "code",
   "execution_count": null,
   "metadata": {
    "deletable": true,
    "editable": true,
    "id": "wwzaU6FFLk29",
    "jupyter": {
     "outputs_hidden": false
    },
    "outputId": "3e50f261-256e-4a54-acfa-5a13031b94f5"
   },
   "outputs": [],
   "source": [
    "data = pd.DataFrame(np.arange(16).reshape((4, 4)),\n",
    "                    index=['Ohio', 'Colorado', 'Utah', 'New York'],\n",
    "                    columns=['one', 'two', 'three', 'four'])\n",
    "data"
   ]
  },
  {
   "cell_type": "code",
   "execution_count": null,
   "metadata": {
    "deletable": true,
    "editable": true,
    "id": "wgjT2aZILk29",
    "jupyter": {
     "outputs_hidden": false
    },
    "outputId": "e1e26de3-1916-40e6-a7c1-7bf11318b0b5"
   },
   "outputs": [],
   "source": [
    "data.drop(['Colorado', 'Ohio'])"
   ]
  },
  {
   "cell_type": "code",
   "execution_count": null,
   "metadata": {
    "deletable": true,
    "editable": true,
    "id": "HMiCJUNqLk2-",
    "jupyter": {
     "outputs_hidden": false
    },
    "outputId": "f419fcd6-f978-49f7-8873-c675a02122cb"
   },
   "outputs": [],
   "source": [
    "data.drop('two', axis=1)\n",
    "data.drop(['two', 'four'], axis='columns')"
   ]
  },
  {
   "cell_type": "code",
   "execution_count": null,
   "metadata": {
    "deletable": true,
    "editable": true,
    "id": "RSWrpc4yLk2-",
    "jupyter": {
     "outputs_hidden": false
    },
    "outputId": "8fc14195-56fa-4362-a310-134a6a20b600"
   },
   "outputs": [],
   "source": [
    "obj.drop('c', inplace=True)\n",
    "obj"
   ]
  },
  {
   "cell_type": "markdown",
   "metadata": {
    "deletable": true,
    "editable": true,
    "id": "LdQXHgMLLk2-"
   },
   "source": [
    "### Indexing, Selection, and Filtering"
   ]
  },
  {
   "cell_type": "code",
   "execution_count": null,
   "metadata": {
    "deletable": true,
    "editable": true,
    "id": "eZ71OpxsLk2-",
    "jupyter": {
     "outputs_hidden": false
    },
    "outputId": "3bfa3a1e-ba3d-4198-cfa0-94e2c5266449"
   },
   "outputs": [],
   "source": [
    "obj = pd.Series(np.arange(4.), index=['a', 'b', 'c', 'd'])\n",
    "obj\n",
    "obj['b']\n",
    "obj[1]\n",
    "obj[2:4]\n",
    "obj[['b', 'a', 'd']]\n",
    "obj[[1, 3]]\n",
    "obj[obj < 2]"
   ]
  },
  {
   "cell_type": "code",
   "execution_count": null,
   "metadata": {
    "deletable": true,
    "editable": true,
    "id": "02Cy28B1Lk2-",
    "jupyter": {
     "outputs_hidden": false
    },
    "outputId": "96443bc8-29a6-42c2-a0d2-2fda1db3b713"
   },
   "outputs": [],
   "source": [
    "obj['b':'c']"
   ]
  },
  {
   "cell_type": "code",
   "execution_count": null,
   "metadata": {
    "deletable": true,
    "editable": true,
    "id": "E_DCYVLULk2_",
    "jupyter": {
     "outputs_hidden": false
    },
    "outputId": "fcc0b884-3f9f-47c5-f47e-d9173e50b6f9"
   },
   "outputs": [],
   "source": [
    "obj['b':'c'] = 5\n",
    "obj"
   ]
  },
  {
   "cell_type": "code",
   "execution_count": null,
   "metadata": {
    "deletable": true,
    "editable": true,
    "id": "3Ww6JHzMLk2_",
    "jupyter": {
     "outputs_hidden": false
    },
    "outputId": "c4b62474-58be-4451-f495-da26e47d762b"
   },
   "outputs": [],
   "source": [
    "data = pd.DataFrame(np.arange(16).reshape((4, 4)),\n",
    "                    index=['Ohio', 'Colorado', 'Utah', 'New York'],\n",
    "                    columns=['one', 'two', 'three', 'four'])\n",
    "data\n",
    "data['two']\n",
    "data[['three', 'one']]"
   ]
  },
  {
   "cell_type": "code",
   "execution_count": null,
   "metadata": {
    "deletable": true,
    "editable": true,
    "id": "klSmXsAsLk2_",
    "jupyter": {
     "outputs_hidden": false
    },
    "outputId": "8f4e7f2c-6b8b-4ecd-d322-f5218f8bc92e"
   },
   "outputs": [],
   "source": [
    "data[:2]\n",
    "data[data['three'] > 5]"
   ]
  },
  {
   "cell_type": "code",
   "execution_count": null,
   "metadata": {
    "deletable": true,
    "editable": true,
    "id": "SXHoqpN1Lk2_",
    "jupyter": {
     "outputs_hidden": false
    },
    "outputId": "f48dfab2-8b2e-4575-8663-d7922ebc030c"
   },
   "outputs": [],
   "source": [
    "data < 5\n",
    "data[data < 5] = 0\n",
    "data"
   ]
  },
  {
   "cell_type": "markdown",
   "metadata": {
    "deletable": true,
    "editable": true,
    "id": "n2j2pjqjLk2_"
   },
   "source": [
    "#### Selection with loc and iloc"
   ]
  },
  {
   "cell_type": "code",
   "execution_count": null,
   "metadata": {
    "deletable": true,
    "editable": true,
    "id": "r3PEhLClLk2_",
    "jupyter": {
     "outputs_hidden": false
    },
    "outputId": "f12dc27b-e410-4b05-d4ee-90eb37271a40"
   },
   "outputs": [],
   "source": [
    "data.loc['Colorado', ['two', 'three']]"
   ]
  },
  {
   "cell_type": "code",
   "execution_count": null,
   "metadata": {
    "deletable": true,
    "editable": true,
    "id": "912_8wPsLk3A",
    "jupyter": {
     "outputs_hidden": false
    },
    "outputId": "915d61cd-b970-47b3-84a4-6f77e534d7e1"
   },
   "outputs": [],
   "source": [
    "data.iloc[2, [3, 0, 1]]\n",
    "data.iloc[2]\n",
    "data.iloc[[1, 2], [3, 0, 1]]"
   ]
  },
  {
   "cell_type": "code",
   "execution_count": null,
   "metadata": {
    "deletable": true,
    "editable": true,
    "id": "J9jDRBGYLk3A",
    "jupyter": {
     "outputs_hidden": false
    },
    "outputId": "d389e886-7872-4250-d417-32a906fc1895"
   },
   "outputs": [],
   "source": [
    "data.loc[:'Utah', 'two']\n",
    "data.iloc[:, :3][data.three > 5]"
   ]
  },
  {
   "cell_type": "markdown",
   "metadata": {
    "deletable": true,
    "editable": true,
    "id": "p_P4qZD_Lk3A"
   },
   "source": [
    "### Integer Indexes"
   ]
  },
  {
   "cell_type": "markdown",
   "metadata": {
    "deletable": true,
    "editable": true,
    "id": "avshZ2dcLk3A"
   },
   "source": [
    "ser = pd.Series(np.arange(3.))\n",
    "ser\n",
    "ser[-1]"
   ]
  },
  {
   "cell_type": "code",
   "execution_count": null,
   "metadata": {
    "deletable": true,
    "editable": true,
    "id": "TGtoA1WDLk3A",
    "jupyter": {
     "outputs_hidden": false
    }
   },
   "outputs": [],
   "source": [
    "ser = pd.Series(np.arange(3.))"
   ]
  },
  {
   "cell_type": "code",
   "execution_count": null,
   "metadata": {
    "deletable": true,
    "editable": true,
    "id": "GeJeLe3FLk3A",
    "jupyter": {
     "outputs_hidden": false
    },
    "outputId": "ef70dd1b-d453-4457-895e-759d627a9969"
   },
   "outputs": [],
   "source": [
    "ser"
   ]
  },
  {
   "cell_type": "code",
   "execution_count": null,
   "metadata": {
    "deletable": true,
    "editable": true,
    "id": "fnwU7SFRLk3B",
    "jupyter": {
     "outputs_hidden": false
    },
    "outputId": "9f17c0f6-4bf5-41f0-8d67-4307e2311131"
   },
   "outputs": [],
   "source": [
    "ser2 = pd.Series(np.arange(3.), index=['a', 'b', 'c'])\n",
    "ser2[-1]"
   ]
  },
  {
   "cell_type": "code",
   "execution_count": null,
   "metadata": {
    "deletable": true,
    "editable": true,
    "id": "1tKHm4BmLk3B",
    "jupyter": {
     "outputs_hidden": false
    },
    "outputId": "9d3e96bd-3b70-4253-d431-e8990536a20d"
   },
   "outputs": [],
   "source": [
    "ser[:1]\n",
    "ser.loc[:1]\n",
    "ser.iloc[:1]"
   ]
  },
  {
   "cell_type": "markdown",
   "metadata": {
    "deletable": true,
    "editable": true,
    "id": "Jt84aEYrLk3B"
   },
   "source": [
    "### Arithmetic and Data Alignment"
   ]
  },
  {
   "cell_type": "code",
   "execution_count": null,
   "metadata": {
    "deletable": true,
    "editable": true,
    "id": "FjnI-iPbLk3B",
    "jupyter": {
     "outputs_hidden": false
    },
    "outputId": "1df8bcfe-b597-4ea8-d839-df7a0f83b7b9"
   },
   "outputs": [],
   "source": [
    "s1 = pd.Series([7.3, -2.5, 3.4, 1.5], index=['a', 'c', 'd', 'e'])\n",
    "s2 = pd.Series([-2.1, 3.6, -1.5, 4, 3.1],\n",
    "               index=['a', 'c', 'e', 'f', 'g'])\n",
    "s1\n",
    "s2"
   ]
  },
  {
   "cell_type": "code",
   "execution_count": null,
   "metadata": {
    "deletable": true,
    "editable": true,
    "id": "wE3Q_mjyLk3B",
    "jupyter": {
     "outputs_hidden": false
    },
    "outputId": "a2a87668-bf19-4b01-cf22-ef5cd0adefba"
   },
   "outputs": [],
   "source": [
    "s1 + s2"
   ]
  },
  {
   "cell_type": "code",
   "execution_count": null,
   "metadata": {
    "deletable": true,
    "editable": true,
    "id": "hLZI_PQzLk3B",
    "jupyter": {
     "outputs_hidden": false
    },
    "outputId": "8e4989e9-48fd-45f7-b9ed-c4b242827d91"
   },
   "outputs": [],
   "source": [
    "df1 = pd.DataFrame(np.arange(9.).reshape((3, 3)), columns=list('bcd'),\n",
    "                   index=['Ohio', 'Texas', 'Colorado'])\n",
    "df2 = pd.DataFrame(np.arange(12.).reshape((4, 3)), columns=list('bde'),\n",
    "                   index=['Utah', 'Ohio', 'Texas', 'Oregon'])\n",
    "df1\n",
    "df2"
   ]
  },
  {
   "cell_type": "code",
   "execution_count": null,
   "metadata": {
    "deletable": true,
    "editable": true,
    "id": "1jUtMn7gLk3C",
    "jupyter": {
     "outputs_hidden": false
    },
    "outputId": "277acf1f-5c90-4a9e-997c-2c2856d9ee88"
   },
   "outputs": [],
   "source": [
    "df1 + df2"
   ]
  },
  {
   "cell_type": "code",
   "execution_count": null,
   "metadata": {
    "deletable": true,
    "editable": true,
    "id": "Kaq7BugJLk3C",
    "jupyter": {
     "outputs_hidden": false
    },
    "outputId": "0c7574ee-769e-4ade-c4df-ea8364f33011"
   },
   "outputs": [],
   "source": [
    "df1 = pd.DataFrame({'A': [1, 2]})\n",
    "df2 = pd.DataFrame({'B': [3, 4]})\n",
    "df1\n",
    "df2\n",
    "df1 - df2"
   ]
  },
  {
   "cell_type": "markdown",
   "metadata": {
    "deletable": true,
    "editable": true,
    "id": "g3GYK8qOLk3C"
   },
   "source": [
    "#### Arithmetic methods with fill values"
   ]
  },
  {
   "cell_type": "code",
   "execution_count": null,
   "metadata": {
    "deletable": true,
    "editable": true,
    "id": "66WvCCN1Lk3C",
    "jupyter": {
     "outputs_hidden": false
    },
    "outputId": "1d164e0a-5ad3-4cde-8ae4-2f65a83452e9"
   },
   "outputs": [],
   "source": [
    "df1 = pd.DataFrame(np.arange(12.).reshape((3, 4)),\n",
    "                   columns=list('abcd'))\n",
    "df2 = pd.DataFrame(np.arange(20.).reshape((4, 5)),\n",
    "                   columns=list('abcde'))\n",
    "df2.loc[1, 'b'] = np.nan\n",
    "df1\n",
    "df2"
   ]
  },
  {
   "cell_type": "code",
   "execution_count": null,
   "metadata": {
    "deletable": true,
    "editable": true,
    "id": "0V2P2JNJLk3C",
    "jupyter": {
     "outputs_hidden": false
    },
    "outputId": "25ebf167-34a7-4142-d3c6-ade0ade3c87b"
   },
   "outputs": [],
   "source": [
    "df1 + df2"
   ]
  },
  {
   "cell_type": "code",
   "execution_count": null,
   "metadata": {
    "deletable": true,
    "editable": true,
    "id": "v13SayUrLk3D",
    "jupyter": {
     "outputs_hidden": false
    },
    "outputId": "2c515599-db91-4873-d053-fc25c08de0c9"
   },
   "outputs": [],
   "source": [
    "df1.add(df2, fill_value=0)"
   ]
  },
  {
   "cell_type": "code",
   "execution_count": null,
   "metadata": {
    "deletable": true,
    "editable": true,
    "id": "zNX-IwqCLk3D",
    "jupyter": {
     "outputs_hidden": false
    },
    "outputId": "28d5eee7-048d-4366-a26e-f90760cfc14a"
   },
   "outputs": [],
   "source": [
    "1 / df1\n",
    "df1.rdiv(1)"
   ]
  },
  {
   "cell_type": "code",
   "execution_count": null,
   "metadata": {
    "deletable": true,
    "editable": true,
    "id": "ttNDGieVLk3D",
    "jupyter": {
     "outputs_hidden": false
    },
    "outputId": "89ca8055-614c-4187-df15-aca97f4007cd"
   },
   "outputs": [],
   "source": [
    "df1.reindex(columns=df2.columns, fill_value=0)"
   ]
  },
  {
   "cell_type": "markdown",
   "metadata": {
    "deletable": true,
    "editable": true,
    "id": "pxDPKYqGLk3D"
   },
   "source": [
    "#### Operations between DataFrame and Series"
   ]
  },
  {
   "cell_type": "code",
   "execution_count": null,
   "metadata": {
    "deletable": true,
    "editable": true,
    "id": "N4Ntowu_Lk3D",
    "jupyter": {
     "outputs_hidden": false
    },
    "outputId": "6911323a-d43e-4879-b7f4-562b4e6b5e29"
   },
   "outputs": [],
   "source": [
    "arr = np.arange(12.).reshape((3, 4))\n",
    "arr\n",
    "arr[0]\n",
    "arr - arr[0]"
   ]
  },
  {
   "cell_type": "code",
   "execution_count": null,
   "metadata": {
    "deletable": true,
    "editable": true,
    "id": "BCd-1Hl9Lk3D",
    "jupyter": {
     "outputs_hidden": false
    },
    "outputId": "2819ebd5-7424-4146-841f-89879bf0043d"
   },
   "outputs": [],
   "source": [
    "frame = pd.DataFrame(np.arange(12.).reshape((4, 3)),\n",
    "                     columns=list('bde'),\n",
    "                     index=['Utah', 'Ohio', 'Texas', 'Oregon'])\n",
    "series = frame.iloc[0]\n",
    "frame\n",
    "series"
   ]
  },
  {
   "cell_type": "code",
   "execution_count": null,
   "metadata": {
    "deletable": true,
    "editable": true,
    "id": "e1YMiUgZLk3D",
    "jupyter": {
     "outputs_hidden": false
    },
    "outputId": "8c1305b8-f810-4dd2-a541-7d491300f1f8"
   },
   "outputs": [],
   "source": [
    "frame - series"
   ]
  },
  {
   "cell_type": "code",
   "execution_count": null,
   "metadata": {
    "deletable": true,
    "editable": true,
    "id": "8Rqxi1e5Lk3E",
    "jupyter": {
     "outputs_hidden": false
    },
    "outputId": "eec74926-d4a1-4c91-cde4-94b3e9a3e458"
   },
   "outputs": [],
   "source": [
    "series2 = pd.Series(range(3), index=['b', 'e', 'f'])\n",
    "frame + series2"
   ]
  },
  {
   "cell_type": "code",
   "execution_count": null,
   "metadata": {
    "deletable": true,
    "editable": true,
    "id": "BzoisSBGLk3E",
    "jupyter": {
     "outputs_hidden": false
    },
    "outputId": "368071b4-f8e9-4583-a614-cc8534c8b89f"
   },
   "outputs": [],
   "source": [
    "series3 = frame['d']\n",
    "frame\n",
    "series3\n",
    "frame.sub(series3, axis='index')"
   ]
  },
  {
   "cell_type": "markdown",
   "metadata": {
    "deletable": true,
    "editable": true,
    "id": "vM0_uD_5Lk3E"
   },
   "source": [
    "### Function Application and Mapping"
   ]
  },
  {
   "cell_type": "code",
   "execution_count": null,
   "metadata": {
    "deletable": true,
    "editable": true,
    "id": "CQAn2U5rLk3F",
    "jupyter": {
     "outputs_hidden": false
    },
    "outputId": "1d902c88-a4d8-4ba4-cedc-981897b05277"
   },
   "outputs": [],
   "source": [
    "frame = pd.DataFrame(np.random.randn(4, 3), columns=list('bde'),\n",
    "                     index=['Utah', 'Ohio', 'Texas', 'Oregon'])\n",
    "frame\n",
    "np.abs(frame)"
   ]
  },
  {
   "cell_type": "code",
   "execution_count": null,
   "metadata": {
    "deletable": true,
    "editable": true,
    "id": "AARHF7JSLk3F",
    "jupyter": {
     "outputs_hidden": false
    },
    "outputId": "69a6f790-0eb2-49f8-8aff-1da029773e9c"
   },
   "outputs": [],
   "source": [
    "f = lambda x: x.max() - x.min()\n",
    "frame.apply(f)"
   ]
  },
  {
   "cell_type": "code",
   "execution_count": null,
   "metadata": {
    "deletable": true,
    "editable": true,
    "id": "VZrsQYemLk3F",
    "jupyter": {
     "outputs_hidden": false
    },
    "outputId": "9a28e64e-97e6-43fd-db8d-f33fb996de65"
   },
   "outputs": [],
   "source": [
    "frame.apply(f, axis='columns')"
   ]
  },
  {
   "cell_type": "code",
   "execution_count": null,
   "metadata": {
    "deletable": true,
    "editable": true,
    "id": "9mrr0XeCLk3F",
    "jupyter": {
     "outputs_hidden": false
    },
    "outputId": "538497d5-c35e-43cb-ff7f-492cf9bced97"
   },
   "outputs": [],
   "source": [
    "def f(x):\n",
    "    return pd.Series([x.min(), x.max()], index=['min', 'max'])\n",
    "frame.apply(f)"
   ]
  },
  {
   "cell_type": "code",
   "execution_count": null,
   "metadata": {
    "deletable": true,
    "editable": true,
    "id": "lrXOrmW2Lk3F",
    "jupyter": {
     "outputs_hidden": false
    },
    "outputId": "dfffe9ae-2d9b-4681-9770-ecd00f318e8c"
   },
   "outputs": [],
   "source": [
    "format = lambda x: '%.2f' % x\n",
    "frame.applymap(format)"
   ]
  },
  {
   "cell_type": "code",
   "execution_count": null,
   "metadata": {
    "deletable": true,
    "editable": true,
    "id": "XNspGQZJLk3G",
    "jupyter": {
     "outputs_hidden": false
    },
    "outputId": "76ab7c8b-ef91-480e-905d-77766c733b0f"
   },
   "outputs": [],
   "source": [
    "frame['e'].map(format)"
   ]
  },
  {
   "cell_type": "markdown",
   "metadata": {
    "deletable": true,
    "editable": true,
    "id": "gRT7F89QLk3G"
   },
   "source": [
    "### Sorting and Ranking"
   ]
  },
  {
   "cell_type": "code",
   "execution_count": null,
   "metadata": {
    "deletable": true,
    "editable": true,
    "id": "eLRJmUfyLk3G",
    "jupyter": {
     "outputs_hidden": false
    },
    "outputId": "ffb5f813-95ca-4b5d-81ba-657e1c8395cf"
   },
   "outputs": [],
   "source": [
    "obj = pd.Series(range(4), index=['d', 'a', 'b', 'c'])\n",
    "obj.sort_index()"
   ]
  },
  {
   "cell_type": "code",
   "execution_count": null,
   "metadata": {
    "deletable": true,
    "editable": true,
    "id": "gM-imRm4Lk3G",
    "jupyter": {
     "outputs_hidden": false
    },
    "outputId": "a46a08bb-6a0e-4b36-98ba-d74b9d3186bf"
   },
   "outputs": [],
   "source": [
    "frame = pd.DataFrame(np.arange(8).reshape((2, 4)),\n",
    "                     index=['three', 'one'],\n",
    "                     columns=['d', 'a', 'b', 'c'])\n",
    "frame.sort_index()\n",
    "frame.sort_index(axis=1)"
   ]
  },
  {
   "cell_type": "code",
   "execution_count": null,
   "metadata": {
    "deletable": true,
    "editable": true,
    "id": "-JnYalawLk3G",
    "jupyter": {
     "outputs_hidden": false
    },
    "outputId": "9e1bdb16-845b-4087-ca9c-059ca9d79bba"
   },
   "outputs": [],
   "source": [
    "frame.sort_index(axis=1, ascending=False)"
   ]
  },
  {
   "cell_type": "code",
   "execution_count": null,
   "metadata": {
    "deletable": true,
    "editable": true,
    "id": "uNNvwcZmLk3H",
    "jupyter": {
     "outputs_hidden": false
    },
    "outputId": "2070e2a1-c297-4d66-d822-314b3e99af79"
   },
   "outputs": [],
   "source": [
    "obj = pd.Series([4, 7, -3, 2])\n",
    "obj.sort_values()"
   ]
  },
  {
   "cell_type": "code",
   "execution_count": null,
   "metadata": {
    "deletable": true,
    "editable": true,
    "id": "QVc-9dsrLk3H",
    "jupyter": {
     "outputs_hidden": false
    },
    "outputId": "7b409972-da8e-4058-bffd-d6f1524cbb21"
   },
   "outputs": [],
   "source": [
    "obj = pd.Series([4, np.nan, 7, np.nan, -3, 2])\n",
    "obj.sort_values()"
   ]
  },
  {
   "cell_type": "code",
   "execution_count": null,
   "metadata": {
    "deletable": true,
    "editable": true,
    "id": "ujvNmc_dLk3H",
    "jupyter": {
     "outputs_hidden": false
    },
    "outputId": "6192590e-3f5c-4776-8ea5-292652984422"
   },
   "outputs": [],
   "source": [
    "frame = pd.DataFrame({'b': [4, 7, -3, 2], 'a': [0, 1, 0, 1]})\n",
    "frame\n",
    "frame.sort_values(by='b')"
   ]
  },
  {
   "cell_type": "code",
   "execution_count": null,
   "metadata": {
    "deletable": true,
    "editable": true,
    "id": "GpINkMdpLk3H",
    "jupyter": {
     "outputs_hidden": false
    },
    "outputId": "b9404662-89fd-48af-ac79-2464a007372e"
   },
   "outputs": [],
   "source": [
    "frame.sort_values(by=['a', 'b'])"
   ]
  },
  {
   "cell_type": "code",
   "execution_count": null,
   "metadata": {
    "deletable": true,
    "editable": true,
    "id": "bmwzYdsYLk3H",
    "jupyter": {
     "outputs_hidden": false
    },
    "outputId": "562efb4d-54ed-4412-c50a-6bcbc6e44175"
   },
   "outputs": [],
   "source": [
    "obj = pd.Series([7, -5, 7, 4, 2, 0, 4])\n",
    "obj.rank()"
   ]
  },
  {
   "cell_type": "code",
   "execution_count": null,
   "metadata": {
    "deletable": true,
    "editable": true,
    "id": "ObUSbc5uLk3I",
    "jupyter": {
     "outputs_hidden": false
    },
    "outputId": "5b54bc12-04e2-4f6d-fc65-2f8a7d45004f"
   },
   "outputs": [],
   "source": [
    "obj.rank(method='first')"
   ]
  },
  {
   "cell_type": "code",
   "execution_count": null,
   "metadata": {
    "deletable": true,
    "editable": true,
    "id": "HAaKKyGOLk3I",
    "jupyter": {
     "outputs_hidden": false
    },
    "outputId": "2bf6c0d0-34e1-40ab-b6f9-bcda16c0c720"
   },
   "outputs": [],
   "source": [
    "# Assign tie values the maximum rank in the group\n",
    "obj.rank(ascending=False, method='max')"
   ]
  },
  {
   "cell_type": "code",
   "execution_count": null,
   "metadata": {
    "deletable": true,
    "editable": true,
    "id": "dW1E1OgmLk3I",
    "jupyter": {
     "outputs_hidden": false
    },
    "outputId": "59ecd1a5-4d95-4a3e-ae5b-1243286678fc"
   },
   "outputs": [],
   "source": [
    "frame = pd.DataFrame({'b': [4.3, 7, -3, 2], 'a': [0, 1, 0, 1],\n",
    "                      'c': [-2, 5, 8, -2.5]})\n",
    "frame\n",
    "frame.rank(axis='columns')"
   ]
  },
  {
   "cell_type": "markdown",
   "metadata": {
    "deletable": true,
    "editable": true,
    "id": "AJqoAP4hLk3I"
   },
   "source": [
    "### Axis Indexes with Duplicate Labels"
   ]
  },
  {
   "cell_type": "code",
   "execution_count": null,
   "metadata": {
    "deletable": true,
    "editable": true,
    "id": "ey3JTqE5Lk3I",
    "jupyter": {
     "outputs_hidden": false
    },
    "outputId": "ca4c139b-5d01-4c89-8713-4a6c4d5962a5"
   },
   "outputs": [],
   "source": [
    "obj = pd.Series(range(5), index=['a', 'a', 'b', 'b', 'c'])\n",
    "obj"
   ]
  },
  {
   "cell_type": "code",
   "execution_count": null,
   "metadata": {
    "deletable": true,
    "editable": true,
    "id": "4sfvQ0tRLk3I",
    "jupyter": {
     "outputs_hidden": false
    },
    "outputId": "835d72af-3138-46ff-c295-7df296cbf869"
   },
   "outputs": [],
   "source": [
    "obj.index.is_unique"
   ]
  },
  {
   "cell_type": "code",
   "execution_count": null,
   "metadata": {
    "deletable": true,
    "editable": true,
    "id": "HiXqgRWqLk3J",
    "jupyter": {
     "outputs_hidden": false
    },
    "outputId": "b4dc4856-7e2e-4029-b6c5-ea0bc2bb8305"
   },
   "outputs": [],
   "source": [
    "obj['a']\n",
    "obj['c']"
   ]
  },
  {
   "cell_type": "code",
   "execution_count": null,
   "metadata": {
    "deletable": true,
    "editable": true,
    "id": "IERBZzxQLk3J",
    "jupyter": {
     "outputs_hidden": false
    },
    "outputId": "a8e58343-907c-4480-d3c1-ca1b53524d54"
   },
   "outputs": [],
   "source": [
    "df = pd.DataFrame(np.random.randn(4, 3), index=['a', 'a', 'b', 'b'])\n",
    "df\n",
    "df.loc['b']"
   ]
  },
  {
   "cell_type": "markdown",
   "metadata": {
    "deletable": true,
    "editable": true,
    "id": "35RxKNKfLk3J"
   },
   "source": [
    "## Summarizing and Computing Descriptive Statistics"
   ]
  },
  {
   "cell_type": "code",
   "execution_count": null,
   "metadata": {
    "deletable": true,
    "editable": true,
    "id": "CuMibMB3Lk3J",
    "jupyter": {
     "outputs_hidden": false
    },
    "outputId": "91ae2d1e-37a2-4de5-eca7-da8df8d92ae2"
   },
   "outputs": [],
   "source": [
    "df = pd.DataFrame([[1.4, np.nan], [7.1, -4.5],\n",
    "                   [np.nan, np.nan], [0.75, -1.3]],\n",
    "                  index=['a', 'b', 'c', 'd'],\n",
    "                  columns=['one', 'two'])\n",
    "df"
   ]
  },
  {
   "cell_type": "code",
   "execution_count": null,
   "metadata": {
    "deletable": true,
    "editable": true,
    "id": "HrM-9HnBLk3J",
    "jupyter": {
     "outputs_hidden": false
    },
    "outputId": "fc50d7b4-a9dd-4986-b308-e27989ae7163"
   },
   "outputs": [],
   "source": [
    "df.sum()"
   ]
  },
  {
   "cell_type": "code",
   "execution_count": null,
   "metadata": {
    "deletable": true,
    "editable": true,
    "id": "FLdrB_jhLk3J",
    "jupyter": {
     "outputs_hidden": false
    },
    "outputId": "6b613acd-f800-44aa-a6b4-760077a2dadc"
   },
   "outputs": [],
   "source": [
    "df.sum(axis='columns')"
   ]
  },
  {
   "cell_type": "code",
   "execution_count": null,
   "metadata": {
    "deletable": true,
    "editable": true,
    "id": "By-9fQeOLk3K",
    "jupyter": {
     "outputs_hidden": false
    },
    "outputId": "5944f60c-fb3c-43a0-fc4d-7032c3b4b68f"
   },
   "outputs": [],
   "source": [
    "df.mean(axis='columns', skipna=False)"
   ]
  },
  {
   "cell_type": "code",
   "execution_count": null,
   "metadata": {
    "deletable": true,
    "editable": true,
    "id": "2_KMS6p0Lk3K",
    "jupyter": {
     "outputs_hidden": false
    },
    "outputId": "9e88fe41-844d-49e9-8790-38a4e4f2d5ef"
   },
   "outputs": [],
   "source": [
    "df.idxmax()"
   ]
  },
  {
   "cell_type": "code",
   "execution_count": null,
   "metadata": {
    "deletable": true,
    "editable": true,
    "id": "bQqpckhoLk3K",
    "jupyter": {
     "outputs_hidden": false
    },
    "outputId": "f51f7dcf-2925-41ff-b12d-287e7195328b"
   },
   "outputs": [],
   "source": [
    "df.cumsum()"
   ]
  },
  {
   "cell_type": "code",
   "execution_count": null,
   "metadata": {
    "deletable": true,
    "editable": true,
    "id": "kZBvPn9VLk3K",
    "jupyter": {
     "outputs_hidden": false
    },
    "outputId": "118dfa2f-2dff-4e43-e37b-0fe23275ac14"
   },
   "outputs": [],
   "source": [
    "df.describe()"
   ]
  },
  {
   "cell_type": "code",
   "execution_count": null,
   "metadata": {
    "deletable": true,
    "editable": true,
    "id": "gjwFroFELk3K",
    "jupyter": {
     "outputs_hidden": false
    },
    "outputId": "6abc53c2-a939-452f-c425-a4c93912b06e"
   },
   "outputs": [],
   "source": [
    "obj = pd.Series(['a', 'a', 'b', 'c'] * 4)\n",
    "obj.describe()"
   ]
  },
  {
   "cell_type": "markdown",
   "metadata": {
    "deletable": true,
    "editable": true,
    "id": "KPmnnzT_Lk3K"
   },
   "source": [
    "### Correlation and Covariance"
   ]
  },
  {
   "cell_type": "markdown",
   "metadata": {
    "deletable": true,
    "editable": true,
    "id": "VeJlZMSrLk3K"
   },
   "source": [
    "conda install pandas-datareader"
   ]
  },
  {
   "cell_type": "code",
   "execution_count": null,
   "metadata": {
    "colab": {
     "base_uri": "https://localhost:8080/"
    },
    "executionInfo": {
     "elapsed": 1072,
     "status": "ok",
     "timestamp": 1615716089149,
     "user": {
      "displayName": "Andre Luckow",
      "photoUrl": "https://lh3.googleusercontent.com/a-/AOh14GgX3nHdZvRUbdHrLYLXgFiGSepV9F6Hd9-YYk29L-Y=s64",
      "userId": "13897213013486729084"
     },
     "user_tz": -60
    },
    "id": "54lu3_boLpJ4",
    "outputId": "7d994915-6356-46e1-b180-68cc49b9d1e2"
   },
   "outputs": [],
   "source": [
    "!wget https://raw.githubusercontent.com/scalable-infrastructure/exercise-students-2021/master/02_Python/examples/yahoo_price.pkl\n",
    "!wget https://raw.githubusercontent.com/scalable-infrastructure/exercise-students-2021/master/02_Python/examples/yahoo_volume.pkl"
   ]
  },
  {
   "cell_type": "code",
   "execution_count": null,
   "metadata": {
    "deletable": true,
    "editable": true,
    "id": "R0suIYfLLk3L",
    "jupyter": {
     "outputs_hidden": false
    },
    "outputId": "95ec22ce-80a9-4389-92ca-f1cf21812189"
   },
   "outputs": [],
   "source": [
    "price = pd.read_pickle('examples/yahoo_price.pkl')\n",
    "volume = pd.read_pickle('examples/yahoo_volume.pkl')"
   ]
  },
  {
   "cell_type": "markdown",
   "metadata": {
    "deletable": true,
    "editable": true,
    "id": "LRsq6C9SLk3L"
   },
   "source": [
    "import pandas_datareader.data as web\n",
    "all_data = {ticker: web.get_data_yahoo(ticker)\n",
    "            for ticker in ['AAPL', 'IBM', 'MSFT', 'GOOG']}\n",
    "\n",
    "price = pd.DataFrame({ticker: data['Adj Close']\n",
    "                     for ticker, data in all_data.items()})\n",
    "volume = pd.DataFrame({ticker: data['Volume']\n",
    "                      for ticker, data in all_data.items()})"
   ]
  },
  {
   "cell_type": "code",
   "execution_count": null,
   "metadata": {
    "deletable": true,
    "editable": true,
    "id": "yEbKn7oyLk3L",
    "jupyter": {
     "outputs_hidden": false
    }
   },
   "outputs": [],
   "source": [
    "returns = price.pct_change()\n",
    "returns.tail()"
   ]
  },
  {
   "cell_type": "code",
   "execution_count": null,
   "metadata": {
    "id": "qVVh8uCvLk3L"
   },
   "outputs": [],
   "source": [
    "price.describe()"
   ]
  },
  {
   "cell_type": "code",
   "execution_count": null,
   "metadata": {
    "deletable": true,
    "editable": true,
    "id": "U6Q5Cf5LLk3L",
    "jupyter": {
     "outputs_hidden": false
    }
   },
   "outputs": [],
   "source": [
    "returns['MSFT'].corr(returns['IBM'])\n",
    "returns['MSFT'].cov(returns['IBM'])"
   ]
  },
  {
   "cell_type": "code",
   "execution_count": null,
   "metadata": {
    "deletable": true,
    "editable": true,
    "id": "lmpfVj9pLk3L",
    "jupyter": {
     "outputs_hidden": false
    }
   },
   "outputs": [],
   "source": [
    "returns.MSFT.corr(returns.IBM)"
   ]
  },
  {
   "cell_type": "code",
   "execution_count": null,
   "metadata": {
    "deletable": true,
    "editable": true,
    "id": "BjIzDHg8Lk3L",
    "jupyter": {
     "outputs_hidden": false
    }
   },
   "outputs": [],
   "source": [
    "returns.corr()\n",
    "returns.cov()"
   ]
  },
  {
   "cell_type": "code",
   "execution_count": null,
   "metadata": {
    "deletable": true,
    "editable": true,
    "id": "pCPyQPGNLk3L",
    "jupyter": {
     "outputs_hidden": false
    }
   },
   "outputs": [],
   "source": [
    "returns.corrwith(returns.IBM)"
   ]
  },
  {
   "cell_type": "code",
   "execution_count": null,
   "metadata": {
    "deletable": true,
    "editable": true,
    "id": "vRmqTVz_Lk3M",
    "jupyter": {
     "outputs_hidden": false
    }
   },
   "outputs": [],
   "source": [
    "returns.corrwith(volume)"
   ]
  },
  {
   "cell_type": "markdown",
   "metadata": {
    "deletable": true,
    "editable": true,
    "id": "1LRm_wYYLk3M"
   },
   "source": [
    "### Unique Values, Value Counts, and Membership"
   ]
  },
  {
   "cell_type": "code",
   "execution_count": null,
   "metadata": {
    "deletable": true,
    "editable": true,
    "id": "sG_clVTtLk3M",
    "jupyter": {
     "outputs_hidden": false
    }
   },
   "outputs": [],
   "source": [
    "obj = pd.Series(['c', 'a', 'd', 'a', 'a', 'b', 'b', 'c', 'c'])"
   ]
  },
  {
   "cell_type": "code",
   "execution_count": null,
   "metadata": {
    "deletable": true,
    "editable": true,
    "id": "fV2Tmv5pLk3M",
    "jupyter": {
     "outputs_hidden": false
    },
    "outputId": "9cd736b0-b880-409c-ad35-d441ba6c1174"
   },
   "outputs": [],
   "source": [
    "uniques = obj.unique()\n",
    "uniques"
   ]
  },
  {
   "cell_type": "code",
   "execution_count": null,
   "metadata": {
    "deletable": true,
    "editable": true,
    "id": "NSblHgtFLk3M",
    "jupyter": {
     "outputs_hidden": false
    },
    "outputId": "6b5448f7-cc1c-475f-d4ac-e53b91ca4c1f"
   },
   "outputs": [],
   "source": [
    "obj.value_counts()"
   ]
  },
  {
   "cell_type": "code",
   "execution_count": null,
   "metadata": {
    "deletable": true,
    "editable": true,
    "id": "SHFLLo49Lk3M",
    "jupyter": {
     "outputs_hidden": false
    },
    "outputId": "0bc0c09b-40a9-4044-9c33-7c069fc28e38"
   },
   "outputs": [],
   "source": [
    "pd.value_counts(obj.values, sort=False)"
   ]
  },
  {
   "cell_type": "code",
   "execution_count": null,
   "metadata": {
    "deletable": true,
    "editable": true,
    "id": "Res9K3IXLk3M",
    "jupyter": {
     "outputs_hidden": false
    },
    "outputId": "6d4d63d6-3994-42da-f07a-8630030839d5"
   },
   "outputs": [],
   "source": [
    "obj\n",
    "mask = obj.isin(['b', 'c'])\n",
    "mask\n",
    "obj[mask]"
   ]
  },
  {
   "cell_type": "code",
   "execution_count": null,
   "metadata": {
    "deletable": true,
    "editable": true,
    "id": "Px96CCZqLk3N",
    "jupyter": {
     "outputs_hidden": false
    },
    "outputId": "f90c1d96-1879-4602-ccab-7928a2e8dad6"
   },
   "outputs": [],
   "source": [
    "to_match = pd.Series(['c', 'a', 'b', 'b', 'c', 'a'])\n",
    "unique_vals = pd.Series(['c', 'b', 'a'])\n",
    "pd.Index(unique_vals).get_indexer(to_match)"
   ]
  },
  {
   "cell_type": "code",
   "execution_count": null,
   "metadata": {
    "deletable": true,
    "editable": true,
    "id": "_MmFd16KLk3N",
    "jupyter": {
     "outputs_hidden": false
    },
    "outputId": "559ca7d4-6836-40d1-d73e-d4d2ff326acf"
   },
   "outputs": [],
   "source": [
    "data = pd.DataFrame({'Qu1': [1, 3, 4, 3, 4],\n",
    "                     'Qu2': [2, 3, 1, 2, 3],\n",
    "                     'Qu3': [1, 5, 2, 4, 4]})\n",
    "data"
   ]
  },
  {
   "cell_type": "code",
   "execution_count": null,
   "metadata": {
    "deletable": true,
    "editable": true,
    "id": "RkQqggMULk3N",
    "jupyter": {
     "outputs_hidden": false
    },
    "outputId": "dba025de-dcdc-4793-a2bd-e766f9ce8575"
   },
   "outputs": [],
   "source": [
    "result = data.apply(pd.value_counts).fillna(0)\n",
    "result"
   ]
  },
  {
   "cell_type": "markdown",
   "metadata": {
    "deletable": true,
    "editable": true,
    "id": "Lc6NuU3ULk3N"
   },
   "source": [
    "## Conclusion"
   ]
  },
  {
   "cell_type": "code",
   "execution_count": null,
   "metadata": {
    "deletable": true,
    "editable": true,
    "id": "w8RfhaaaLk3N",
    "jupyter": {
     "outputs_hidden": false
    }
   },
   "outputs": [],
   "source": [
    "pd.options.display.max_rows = PREVIOUS_MAX_ROWS"
   ]
  },
  {
   "cell_type": "code",
   "execution_count": null,
   "metadata": {
    "id": "Zgg6b_l_Lk3O"
   },
   "outputs": [],
   "source": []
  }
 ],
 "metadata": {
  "colab": {
   "name": "02.3_PandasTour.ipynb",
   "provenance": []
  },
  "kernelspec": {
   "display_name": "Python 3",
   "language": "python",
   "name": "python3"
  },
  "language_info": {
   "codemirror_mode": {
    "name": "ipython",
    "version": 3
   },
   "file_extension": ".py",
   "mimetype": "text/x-python",
   "name": "python",
   "nbconvert_exporter": "python",
   "pygments_lexer": "ipython3",
   "version": "3.7.3"
  }
 },
 "nbformat": 4,
 "nbformat_minor": 0
}
