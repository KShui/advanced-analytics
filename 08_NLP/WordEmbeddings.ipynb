{
 "cells": [
  {
   "cell_type": "markdown",
   "metadata": {
    "id": "rb5MINfugqan"
   },
   "source": [
    "# Word Embeddings\n",
    "\n",
    "Documentation:\n",
    "\n",
    "* https://fasttext.cc/docs/en/english-vectors.html\n",
    "* https://fasttext.cc/docs/en/unsupervised-tutorial.html\n",
    "* https://fasttext.cc/docs/en/html/index.html\n",
    "\n",
    "1. Install FastText and load the pre-trained Word Embeddings into a FastText model!"
   ]
  },
  {
   "cell_type": "code",
   "execution_count": null,
   "metadata": {
    "colab": {
     "base_uri": "https://localhost:8080/"
    },
    "executionInfo": {
     "elapsed": 51011,
     "status": "ok",
     "timestamp": 1616315356296,
     "user": {
      "displayName": "Andre Luckow",
      "photoUrl": "https://lh3.googleusercontent.com/a-/AOh14GgX3nHdZvRUbdHrLYLXgFiGSepV9F6Hd9-YYk29L-Y=s64",
      "userId": "13897213013486729084"
     },
     "user_tz": -60
    },
    "id": "apCrrByY5iLr",
    "outputId": "48236258-2303-48e3-8a98-585c1646c71d"
   },
   "outputs": [],
   "source": [
    "!pip -q install fasttext"
   ]
  },
  {
   "cell_type": "code",
   "execution_count": null,
   "metadata": {
    "colab": {
     "base_uri": "https://localhost:8080/",
     "height": 52
    },
    "executionInfo": {
     "elapsed": 955749,
     "status": "ok",
     "timestamp": 1616316292476,
     "user": {
      "displayName": "Andre Luckow",
      "photoUrl": "https://lh3.googleusercontent.com/a-/AOh14GgX3nHdZvRUbdHrLYLXgFiGSepV9F6Hd9-YYk29L-Y=s64",
      "userId": "13897213013486729084"
     },
     "user_tz": -60
    },
    "id": "ZXFZ36X4gqat",
    "outputId": "e476b331-bfa8-4591-d2c7-a1dbb012b51d"
   },
   "outputs": [],
   "source": [
    "import fasttext\n",
    "import fasttext.util\n",
    "fasttext.util.download_model('en', if_exists='ignore')  # English"
   ]
  },
  {
   "cell_type": "markdown",
   "metadata": {
    "id": "U8qFkqkxgqau"
   },
   "source": [
    "2. How large is the vocabulary?"
   ]
  },
  {
   "cell_type": "markdown",
   "metadata": {
    "id": "pfng0zsfgqav"
   },
   "source": [
    "3. How many dimensions does the model have?"
   ]
  },
  {
   "cell_type": "markdown",
   "metadata": {
    "id": "zFHzaiFJgqav"
   },
   "source": [
    "4. Print the Word Vectors for the Munich!"
   ]
  },
  {
   "cell_type": "markdown",
   "metadata": {
    "id": "Fri_7eEtgqav"
   },
   "source": [
    "5. What are the most similar terms to LRZ?"
   ]
  },
  {
   "cell_type": "markdown",
   "metadata": {
    "id": "AdztPeHUgqav"
   },
   "source": [
    "6. Find the analogie to the relation of Berlin to Germany for Denmark!"
   ]
  },
  {
   "cell_type": "markdown",
   "metadata": {
    "id": "ieYSc7vRgqaw"
   },
   "source": [
    "7. Study the Transformer notebook `Transformer-pipelines.ipynb` and investigate the possible language tasks that can be supported by transformer models!"
   ]
  }
 ],
 "metadata": {
  "colab": {
   "collapsed_sections": [],
   "name": "WorkEmbeddings.ipynb",
   "provenance": []
  },
  "kernelspec": {
   "display_name": "Python 3",
   "language": "python",
   "name": "python3"
  },
  "language_info": {
   "codemirror_mode": {
    "name": "ipython",
    "version": 3
   },
   "file_extension": ".py",
   "mimetype": "text/x-python",
   "name": "python",
   "nbconvert_exporter": "python",
   "pygments_lexer": "ipython3",
   "version": "3.7.3"
  }
 },
 "nbformat": 4,
 "nbformat_minor": 0
}
