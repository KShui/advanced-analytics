{
 "cells": [
  {
   "cell_type": "markdown",
   "metadata": {},
   "source": [
    "# Quantum Machine Learning (MNIST)\n",
    "\n",
    "adapted from: https://towardsdatascience.com/hybrid-quantum-neural-network-for-reduced-mnist-data-840897ad08a"
   ]
  },
  {
   "cell_type": "code",
   "execution_count": null,
   "metadata": {},
   "outputs": [],
   "source": [
    "!pip install -q pennylane\n",
    "!pip install -q tensorflow\n",
    "!pip install -q matplotlib"
   ]
  },
  {
   "cell_type": "code",
   "execution_count": null,
   "metadata": {},
   "outputs": [],
   "source": [
    "import numpy as np\n",
    "import tensorflow as tf\n",
    "import matplotlib.pyplot as plt\n",
    "\n",
    "import pennylane as qml\n",
    "from pennylane import numpy as p_np\n",
    "\n",
    "from pennylane.templates.state_preparations import MottonenStatePreparation\n",
    "from pennylane.templates.layers import StronglyEntanglingLayers\n",
    "\n",
    "# Get the MNIST Data\n",
    "mnist = tf.keras.datasets.mnist"
   ]
  },
  {
   "cell_type": "code",
   "execution_count": null,
   "metadata": {},
   "outputs": [],
   "source": [
    "(X_train, y_train), (X_test, y_test) = mnist.load_data()"
   ]
  },
  {
   "cell_type": "code",
   "execution_count": null,
   "metadata": {},
   "outputs": [],
   "source": [
    "num = 10\n",
    "images = X_train[:num]\n",
    "labels = y_train[:num]\n",
    "num_row = 2\n",
    "num_col = 5\n",
    "# plot images\n",
    "fig, axes = plt.subplots(num_row, num_col, figsize=(1.5*num_col,2*num_row))\n",
    "for i in range(num):\n",
    "    ax = axes[i//num_col, i%num_col]\n",
    "    ax.imshow(images[i], cmap='gray')\n",
    "    ax.set_title('Label: {}'.format(labels[i]))\n",
    "plt.tight_layout()\n",
    "plt.show()"
   ]
  },
  {
   "cell_type": "code",
   "execution_count": null,
   "metadata": {},
   "outputs": [],
   "source": [
    "print(\"Unique classes: {}\".format(np.unique(y_train)))"
   ]
  },
  {
   "cell_type": "markdown",
   "metadata": {},
   "source": [
    "Create a simplified classification tasks predicting weather a number is zero"
   ]
  },
  {
   "cell_type": "code",
   "execution_count": null,
   "metadata": {},
   "outputs": [],
   "source": [
    "n_qubits = 6                  # Number of qubits\n",
    "num_layers = 8 "
   ]
  },
  {
   "cell_type": "code",
   "execution_count": null,
   "metadata": {},
   "outputs": [],
   "source": [
    "dev = qml.device(\"default.qubit\", wires = n_qubits)\n",
    "\n",
    "@qml.qnode(dev, diff_method='adjoint')\n",
    "def circuit(weights, inputs=None):\n",
    "  ''' Quantum QVC Circuit'''\n",
    "\n",
    "  # Splits need to be done through the tensorflow interface\n",
    "  weights_each_layer = tf.split(weights, num_or_size_splits=num_layers, axis=0)\n",
    "  \n",
    "  # Input normalization\n",
    "  inputs_1 = inputs / p_np.sqrt(max(p_np.sum(inputs ** 2, axis=-1), 0.001))\n",
    "\n",
    "  for i, W in enumerate(weights):\n",
    "    # Data re-uploading technique\n",
    "    if i % 2 == 0:\n",
    "      MottonenStatePreparation(inputs_1, wires = range(n_qubits))\n",
    "    \n",
    "    # Neural network layer\n",
    "    StronglyEntanglingLayers(weights_each_layer[i], wires=range(n_qubits))\n",
    "  \n",
    "  # Measurement return\n",
    "  return [qml.expval(qml.PauliZ(i)) for i in range(n_qubits)] "
   ]
  },
  {
   "cell_type": "code",
   "execution_count": null,
   "metadata": {},
   "outputs": [],
   "source": [
    "weight_shapes = {\"weights\": (num_layers,n_qubits,3)}\n",
    "\n",
    "# Model  \n",
    "input_m = tf.keras.layers.Input(shape=(2 ** n_qubits,), name = \"input_0\")\n",
    "keras_1 = qml.qnn.KerasLayer(circuit, weight_shapes, output_dim=n_qubits, name = \"keras_1\")(input_m)\n",
    "output = tf.keras.layers.Dense(num_classes_q, activation='softmax', name = \"dense_1\")(keras_1)\n",
    "\n",
    "# Model creation\n",
    "model = tf.keras.Model(inputs=input_m, outputs=output, name=\"mnist_quantum_model\")\n",
    "\n",
    "# Model compilation\n",
    "model.compile(\n",
    "  loss='categorical_crossentropy',\n",
    "  optimizer=tf.keras.optimizers.Adam(learning_rate=0.01) ,\n",
    "  metrics=[tf.keras.metrics.CategoricalAccuracy()]\n",
    ")"
   ]
  }
 ],
 "metadata": {
  "interpreter": {
   "hash": "7badcb33b6e19caeee94a4bab3b10e3a23c9d83a491303f167e14515367d1a88"
  },
  "kernelspec": {
   "display_name": "Python 3.9.7 ('qml')",
   "language": "python",
   "name": "python3"
  },
  "language_info": {
   "codemirror_mode": {
    "name": "ipython",
    "version": 3
   },
   "file_extension": ".py",
   "mimetype": "text/x-python",
   "name": "python",
   "nbconvert_exporter": "python",
   "pygments_lexer": "ipython3",
   "version": "3.9.7"
  }
 },
 "nbformat": 4,
 "nbformat_minor": 2
}
